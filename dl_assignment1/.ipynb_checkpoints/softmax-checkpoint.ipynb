{
 "cells": [
  {
   "cell_type": "markdown",
   "metadata": {},
   "source": [
    "# Softmax exercise\n",
    "\n",
    "*Complete and hand in this completed worksheet (including its outputs and any supporting code outside of the worksheet) with your assignment submission. For more details see the [assignments page](http://vision.stanford.edu/teaching/cs231n/assignments.html) on the course website.*\n",
    "\n",
    "This exercise is analogous to the SVM exercise. You will:\n",
    "\n",
    "- implement a fully-vectorized **loss function** for the Softmax classifier\n",
    "- implement the fully-vectorized expression for its **analytic gradient**\n",
    "- **check your implementation** with numerical gradient\n",
    "- use a validation set to **tune the learning rate and regularization** strength\n",
    "- **optimize** the loss function with **SGD**\n",
    "- **visualize** the final learned weights\n"
   ]
  },
  {
   "cell_type": "code",
   "execution_count": 2,
   "metadata": {
    "collapsed": true
   },
   "outputs": [],
   "source": [
    "import random\n",
    "import numpy as np\n",
    "from cs231n.data_utils import load_CIFAR10\n",
    "import matplotlib.pyplot as plt\n",
    "%matplotlib inline\n",
    "plt.rcParams['figure.figsize'] = (10.0, 8.0) # set default size of plots\n",
    "plt.rcParams['image.interpolation'] = 'nearest'\n",
    "plt.rcParams['image.cmap'] = 'gray'\n",
    "\n",
    "# for auto-reloading extenrnal modules\n",
    "# see http://stackoverflow.com/questions/1907993/autoreload-of-modules-in-ipython\n",
    "%load_ext autoreload\n",
    "%autoreload 2"
   ]
  },
  {
   "cell_type": "code",
   "execution_count": 3,
   "metadata": {},
   "outputs": [
    {
     "name": "stdout",
     "output_type": "stream",
     "text": [
      "Train data shape:  (49000, 3073)\n",
      "Train labels shape:  (49000,)\n",
      "Validation data shape:  (1000, 3073)\n",
      "Validation labels shape:  (1000,)\n",
      "Test data shape:  (1000, 3073)\n",
      "Test labels shape:  (1000,)\n",
      "dev data shape:  (500, 3073)\n",
      "dev labels shape:  (500,)\n"
     ]
    }
   ],
   "source": [
    "def get_CIFAR10_data(num_training=49000, num_validation=1000, num_test=1000, num_dev=500):\n",
    "  \"\"\"\n",
    "  Load the CIFAR-10 dataset from disk and perform preprocessing to prepare\n",
    "  it for the linear classifier. These are the same steps as we used for the\n",
    "  SVM, but condensed to a single function.  \n",
    "  \"\"\"\n",
    "  # Load the raw CIFAR-10 data\n",
    "  cifar10_dir = 'cs231n/datasets/cifar-10-batches-py'\n",
    "  X_train, y_train, X_test, y_test = load_CIFAR10(cifar10_dir)\n",
    "  \n",
    "  # subsample the data\n",
    "  mask = range(num_training, num_training + num_validation)\n",
    "  X_val = X_train[mask]\n",
    "  y_val = y_train[mask]\n",
    "  mask = range(num_training)\n",
    "  X_train = X_train[mask]\n",
    "  y_train = y_train[mask]\n",
    "  mask = range(num_test)\n",
    "  X_test = X_test[mask]\n",
    "  y_test = y_test[mask]\n",
    "  mask = np.random.choice(num_training, num_dev, replace=False)\n",
    "  X_dev = X_train[mask]\n",
    "  y_dev = y_train[mask]\n",
    "  \n",
    "  # Preprocessing: reshape the image data into rows\n",
    "  X_train = np.reshape(X_train, (X_train.shape[0], -1))\n",
    "  X_val = np.reshape(X_val, (X_val.shape[0], -1))\n",
    "  X_test = np.reshape(X_test, (X_test.shape[0], -1))\n",
    "  X_dev = np.reshape(X_dev, (X_dev.shape[0], -1))\n",
    "  \n",
    "  # Normalize the data: subtract the mean image\n",
    "  mean_image = np.mean(X_train, axis = 0)\n",
    "  X_train -= mean_image\n",
    "  X_val -= mean_image\n",
    "  X_test -= mean_image\n",
    "  X_dev -= mean_image\n",
    "  \n",
    "  # add bias dimension and transform into columns\n",
    "  X_train = np.hstack([X_train, np.ones((X_train.shape[0], 1))])\n",
    "  X_val = np.hstack([X_val, np.ones((X_val.shape[0], 1))])\n",
    "  X_test = np.hstack([X_test, np.ones((X_test.shape[0], 1))])\n",
    "  X_dev = np.hstack([X_dev, np.ones((X_dev.shape[0], 1))])\n",
    "  \n",
    "  return X_train, y_train, X_val, y_val, X_test, y_test, X_dev, y_dev\n",
    "\n",
    "\n",
    "# Invoke the above function to get our data.\n",
    "X_train, y_train, X_val, y_val, X_test, y_test, X_dev, y_dev = get_CIFAR10_data()\n",
    "print 'Train data shape: ', X_train.shape\n",
    "print 'Train labels shape: ', y_train.shape\n",
    "print 'Validation data shape: ', X_val.shape\n",
    "print 'Validation labels shape: ', y_val.shape\n",
    "print 'Test data shape: ', X_test.shape\n",
    "print 'Test labels shape: ', y_test.shape\n",
    "print 'dev data shape: ', X_dev.shape\n",
    "print 'dev labels shape: ', y_dev.shape"
   ]
  },
  {
   "cell_type": "markdown",
   "metadata": {},
   "source": [
    "## Softmax Classifier\n",
    "\n",
    "Your code for this section will all be written inside **cs231n/classifiers/softmax.py**. \n"
   ]
  },
  {
   "cell_type": "code",
   "execution_count": 4,
   "metadata": {},
   "outputs": [
    {
     "name": "stdout",
     "output_type": "stream",
     "text": [
      "loss: 2.375519\n",
      "sanity check: 2.302585\n"
     ]
    }
   ],
   "source": [
    "# First implement the naive softmax loss function with nested loops.\n",
    "# Open the file cs231n/classifiers/softmax.py and implement the\n",
    "# softmax_loss_naive function.\n",
    "\n",
    "from cs231n.classifiers.softmax import softmax_loss_naive\n",
    "import time\n",
    "\n",
    "# Generate a random softmax weight matrix and use it to compute the loss.\n",
    "W = np.random.randn(3073, 10) * 0.0001\n",
    "loss, grad = softmax_loss_naive(W, X_dev, y_dev, 0.0)\n",
    "\n",
    "# As a rough sanity check, our loss should be something close to -log(0.1).\n",
    "print 'loss: %f' % loss\n",
    "print 'sanity check: %f' % (-np.log(0.1))"
   ]
  },
  {
   "cell_type": "markdown",
   "metadata": {},
   "source": [
    "## Inline Question 1:\n",
    "Why do we expect our loss to be close to -log(0.1)? Explain briefly.**\n",
    "\n",
    "**Your answer:** *Notice that CIFAR-10 has 10 classes. Because in the above-mentioned code our weight matrix W is initialized randomly, an image is likely to be predicted to belong to every class with almost equal probability, that is, 1/10. Thus the cross-entropy loss will be around -log(0.1).*\n"
   ]
  },
  {
   "cell_type": "code",
   "execution_count": 6,
   "metadata": {},
   "outputs": [
    {
     "name": "stdout",
     "output_type": "stream",
     "text": [
      "numerical: -4.490302 analytic: -4.490302, relative error: 1.630518e-08\n",
      "numerical: -1.262580 analytic: -1.262580, relative error: 4.719994e-08\n",
      "numerical: -3.232190 analytic: -3.232190, relative error: 6.277008e-10\n",
      "numerical: 0.991601 analytic: 0.991601, relative error: 3.794389e-08\n",
      "numerical: -4.294090 analytic: -4.294090, relative error: 4.389316e-09\n",
      "numerical: -0.118603 analytic: -0.118603, relative error: 3.444661e-07\n",
      "numerical: -0.853355 analytic: -0.853355, relative error: 5.954291e-09\n",
      "numerical: -0.441435 analytic: -0.441435, relative error: 9.728843e-09\n",
      "numerical: -1.731056 analytic: -1.731056, relative error: 2.028538e-08\n",
      "numerical: 1.796642 analytic: 1.796642, relative error: 3.588685e-08\n",
      "numerical: 0.181152 analytic: 0.181152, relative error: 2.363252e-07\n",
      "numerical: 3.488075 analytic: 3.488075, relative error: 1.818300e-08\n",
      "numerical: 0.887140 analytic: 0.887140, relative error: 9.803931e-09\n",
      "numerical: 1.754834 analytic: 1.754834, relative error: 1.300466e-08\n",
      "numerical: 5.287682 analytic: 5.287682, relative error: 8.855105e-09\n",
      "numerical: -0.983987 analytic: -0.983987, relative error: 1.712192e-08\n",
      "numerical: 1.328641 analytic: 1.328641, relative error: 3.562867e-08\n",
      "numerical: -2.983924 analytic: -2.983924, relative error: 1.153361e-08\n",
      "numerical: 2.551256 analytic: 2.551256, relative error: 2.428344e-08\n",
      "numerical: 1.005156 analytic: 1.005155, relative error: 6.327720e-08\n"
     ]
    }
   ],
   "source": [
    "# Complete the implementation of softmax_loss_naive and implement a (naive)\n",
    "# version of the gradient that uses nested loops.\n",
    "loss, grad = softmax_loss_naive(W, X_dev, y_dev, 0.0)\n",
    "\n",
    "# As we did for the SVM, use numeric gradient checking as a debugging tool.\n",
    "# The numeric gradient should be close to the analytic gradient.\n",
    "from cs231n.gradient_check import grad_check_sparse\n",
    "f = lambda w: softmax_loss_naive(w, X_dev, y_dev, 0.0)[0]\n",
    "grad_numerical = grad_check_sparse(f, W, grad, 10)\n",
    "\n",
    "# similar to SVM case, do another gradient check with regularization\n",
    "loss, grad = softmax_loss_naive(W, X_dev, y_dev, 1e2)\n",
    "f = lambda w: softmax_loss_naive(w, X_dev, y_dev, 1e2)[0]\n",
    "grad_numerical = grad_check_sparse(f, W, grad, 10)"
   ]
  },
  {
   "cell_type": "code",
   "execution_count": 7,
   "metadata": {},
   "outputs": [
    {
     "name": "stdout",
     "output_type": "stream",
     "text": [
      "naive loss: 2.375519e+00 computed in 0.024431s\n",
      "vectorized loss: 2.375519e+00 computed in 0.005815s\n",
      "Loss difference: 0.000000\n",
      "Gradient difference: 0.000000\n"
     ]
    }
   ],
   "source": [
    "# Now that we have a naive implementation of the softmax loss function and its gradient,\n",
    "# implement a vectorized version in softmax_loss_vectorized.\n",
    "# The two versions should compute the same results, but the vectorized version should be\n",
    "# much faster.\n",
    "tic = time.time()\n",
    "loss_naive, grad_naive = softmax_loss_naive(W, X_dev, y_dev, 0.00001)\n",
    "toc = time.time()\n",
    "print 'naive loss: %e computed in %fs' % (loss_naive, toc - tic)\n",
    "\n",
    "from cs231n.classifiers.softmax import softmax_loss_vectorized\n",
    "tic = time.time()\n",
    "loss_vectorized, grad_vectorized = softmax_loss_vectorized(W, X_dev, y_dev, 0.00001)\n",
    "toc = time.time()\n",
    "print 'vectorized loss: %e computed in %fs' % (loss_vectorized, toc - tic)\n",
    "\n",
    "# As we did for the SVM, we use the Frobenius norm to compare the two versions\n",
    "# of the gradient.\n",
    "grad_difference = np.linalg.norm(grad_naive - grad_vectorized, ord='fro')\n",
    "print 'Loss difference: %f' % np.abs(loss_naive - loss_vectorized)\n",
    "print 'Gradient difference: %f' % grad_difference"
   ]
  },
  {
   "cell_type": "code",
   "execution_count": 11,
   "metadata": {},
   "outputs": [
    {
     "name": "stdout",
     "output_type": "stream",
     "text": [
      "iteration 0 / 3000: loss 51.396327\n",
      "iteration 100 / 3000: loss 36.058252\n",
      "iteration 200 / 3000: loss 26.983561\n",
      "iteration 300 / 3000: loss 20.366349\n",
      "iteration 400 / 3000: loss 15.531397\n",
      "iteration 500 / 3000: loss 11.808648\n",
      "iteration 600 / 3000: loss 9.196678\n",
      "iteration 700 / 3000: loss 7.248856\n",
      "iteration 800 / 3000: loss 5.800532\n",
      "iteration 900 / 3000: loss 4.739481\n",
      "iteration 1000 / 3000: loss 4.074743\n",
      "iteration 1100 / 3000: loss 3.310941\n",
      "iteration 1200 / 3000: loss 3.046682\n",
      "iteration 1300 / 3000: loss 2.739231\n",
      "iteration 1400 / 3000: loss 2.464675\n",
      "iteration 1500 / 3000: loss 2.377674\n",
      "iteration 1600 / 3000: loss 2.251968\n",
      "iteration 1700 / 3000: loss 2.112279\n",
      "iteration 1800 / 3000: loss 1.979992\n",
      "iteration 1900 / 3000: loss 2.081259\n",
      "iteration 2000 / 3000: loss 1.933389\n",
      "iteration 2100 / 3000: loss 1.844128\n",
      "iteration 2200 / 3000: loss 1.878067\n",
      "iteration 2300 / 3000: loss 1.827673\n",
      "iteration 2400 / 3000: loss 1.866070\n",
      "iteration 2500 / 3000: loss 1.830224\n",
      "iteration 2600 / 3000: loss 1.786654\n",
      "iteration 2700 / 3000: loss 1.928553\n",
      "iteration 2800 / 3000: loss 1.860607\n",
      "iteration 2900 / 3000: loss 1.830101\n",
      "iteration 0 / 3000: loss 67.037511\n",
      "iteration 100 / 3000: loss 43.579879\n",
      "iteration 200 / 3000: loss 29.521708\n",
      "iteration 300 / 3000: loss 20.234653\n",
      "iteration 400 / 3000: loss 14.104006\n",
      "iteration 500 / 3000: loss 9.947284\n",
      "iteration 600 / 3000: loss 7.265138\n",
      "iteration 700 / 3000: loss 5.496503\n",
      "iteration 800 / 3000: loss 4.301438\n",
      "iteration 900 / 3000: loss 3.397187\n",
      "iteration 1000 / 3000: loss 2.939981\n",
      "iteration 1100 / 3000: loss 2.515943\n",
      "iteration 1200 / 3000: loss 2.398426\n",
      "iteration 1300 / 3000: loss 2.244574\n",
      "iteration 1400 / 3000: loss 2.175894\n",
      "iteration 1500 / 3000: loss 2.037726\n",
      "iteration 1600 / 3000: loss 1.914775\n",
      "iteration 1700 / 3000: loss 1.920639\n",
      "iteration 1800 / 3000: loss 1.939217\n",
      "iteration 1900 / 3000: loss 1.943594\n",
      "iteration 2000 / 3000: loss 1.834065\n",
      "iteration 2100 / 3000: loss 1.940595\n",
      "iteration 2200 / 3000: loss 1.876762\n",
      "iteration 2300 / 3000: loss 1.856589\n",
      "iteration 2400 / 3000: loss 1.887821\n",
      "iteration 2500 / 3000: loss 1.774732\n",
      "iteration 2600 / 3000: loss 1.768380\n",
      "iteration 2700 / 3000: loss 1.869338\n",
      "iteration 2800 / 3000: loss 1.874586\n",
      "iteration 2900 / 3000: loss 1.847557\n",
      "iteration 0 / 3000: loss 82.100624\n",
      "iteration 100 / 3000: loss 48.735285\n",
      "iteration 200 / 3000: loss 30.064889\n",
      "iteration 300 / 3000: loss 18.845126\n",
      "iteration 400 / 3000: loss 12.049880\n",
      "iteration 500 / 3000: loss 7.954390\n",
      "iteration 600 / 3000: loss 5.476848\n",
      "iteration 700 / 3000: loss 4.220283\n",
      "iteration 800 / 3000: loss 3.165541\n",
      "iteration 900 / 3000: loss 2.696461\n",
      "iteration 1000 / 3000: loss 2.392334\n",
      "iteration 1100 / 3000: loss 2.272016\n",
      "iteration 1200 / 3000: loss 2.150900\n",
      "iteration 1300 / 3000: loss 1.963883\n",
      "iteration 1400 / 3000: loss 1.970458\n",
      "iteration 1500 / 3000: loss 2.018664\n",
      "iteration 1600 / 3000: loss 1.972871\n",
      "iteration 1700 / 3000: loss 1.971426\n",
      "iteration 1800 / 3000: loss 1.880818\n",
      "iteration 1900 / 3000: loss 1.832014\n",
      "iteration 2000 / 3000: loss 1.902883\n",
      "iteration 2100 / 3000: loss 1.872091\n",
      "iteration 2200 / 3000: loss 1.894892\n",
      "iteration 2300 / 3000: loss 2.013775\n",
      "iteration 2400 / 3000: loss 1.859156\n",
      "iteration 2500 / 3000: loss 1.817681\n",
      "iteration 2600 / 3000: loss 1.901375\n",
      "iteration 2700 / 3000: loss 1.932457\n",
      "iteration 2800 / 3000: loss 1.929504\n",
      "iteration 2900 / 3000: loss 1.831602\n",
      "lr 5.000000e-07 reg 3.000000e+03 train accuracy: 0.398551 val accuracy: 0.400000\n",
      "lr 5.000000e-07 reg 4.000000e+03 train accuracy: 0.390837 val accuracy: 0.396000\n",
      "lr 5.000000e-07 reg 5.000000e+03 train accuracy: 0.388204 val accuracy: 0.398000\n",
      "best validation accuracy achieved during cross-validation: 0.400000\n"
     ]
    }
   ],
   "source": [
    "# Use the validation set to tune hyperparameters (regularization strength and\n",
    "# learning rate). You should experiment with different ranges for the learning\n",
    "# rates and regularization strengths; if you are careful you should be able to\n",
    "# get a classification accuracy of over 0.35 on the validation set.\n",
    "from cs231n.classifiers import Softmax\n",
    "results = {}\n",
    "best_val = -1\n",
    "best_softmax = None\n",
    "learning_rates = [5e-7]\n",
    "regularization_strengths = [3e3, 4e3, 5e3]\n",
    "\n",
    "################################################################################\n",
    "# TODO:                                                                        #\n",
    "# Use the validation set to set the learning rate and regularization strength. #\n",
    "# This should be identical to the validation that you did for the SVM; save    #\n",
    "# the best trained softmax classifer in best_softmax.                          #\n",
    "################################################################################\n",
    "from cs231n.classifiers.linear_classifier import Softmax\n",
    "\n",
    "for lr in learning_rates:\n",
    "    for reg in regularization_strengths:\n",
    "        softmax = Softmax()\n",
    "        softmax.train(X_train, y_train, lr, reg, num_iters = 3000, batch_size = 200, verbose = True)\n",
    "        \n",
    "        y_val_pred = softmax.predict(X_val)\n",
    "        acc_val = np.mean(y_val_pred == y_val)\n",
    "        \n",
    "        y_train_pred = softmax.predict(X_train)\n",
    "        acc_train = np.mean(y_train_pred == y_train)\n",
    "        \n",
    "        results[(lr, reg)] = (acc_train, acc_val)\n",
    "        \n",
    "        if acc_val > best_val:\n",
    "            best_val = acc_val\n",
    "            best_softmax = softmax\n",
    "################################################################################\n",
    "#                              END OF YOUR CODE                                #\n",
    "################################################################################\n",
    "    \n",
    "# Print out results.\n",
    "for lr, reg in sorted(results):\n",
    "    train_accuracy, val_accuracy = results[(lr, reg)]\n",
    "    print 'lr %e reg %e train accuracy: %f val accuracy: %f' % (\n",
    "                lr, reg, train_accuracy, val_accuracy)\n",
    "    \n",
    "print 'best validation accuracy achieved during cross-validation: %f' % best_val"
   ]
  },
  {
   "cell_type": "code",
   "execution_count": 12,
   "metadata": {},
   "outputs": [
    {
     "name": "stdout",
     "output_type": "stream",
     "text": [
      "softmax on raw pixels final test set accuracy: 0.390000\n"
     ]
    }
   ],
   "source": [
    "# evaluate on test set\n",
    "# Evaluate the best softmax on test set\n",
    "y_test_pred = best_softmax.predict(X_test)\n",
    "test_accuracy = np.mean(y_test == y_test_pred)\n",
    "print 'softmax on raw pixels final test set accuracy: %f' % (test_accuracy, )"
   ]
  },
  {
   "cell_type": "code",
   "execution_count": 13,
   "metadata": {},
   "outputs": [
    {
     "data": {
      "image/png": "[encoded data removed]",
      "text/plain": [
       "<matplotlib.figure.Figure at 0x111ebaa90>"
      ]
     },
     "metadata": {},
     "output_type": "display_data"
    }
   ],
   "source": [
    "# Visualize the learned weights for each class\n",
    "w = best_softmax.W[:-1,:] # strip out the bias\n",
    "w = w.reshape(32, 32, 3, 10)\n",
    "\n",
    "w_min, w_max = np.min(w), np.max(w)\n",
    "\n",
    "classes = ['plane', 'car', 'bird', 'cat', 'deer', 'dog', 'frog', 'horse', 'ship', 'truck']\n",
    "for i in xrange(10):\n",
    "  plt.subplot(2, 5, i + 1)\n",
    "  \n",
    "  # Rescale the weights to be between 0 and 255\n",
    "  wimg = 255.0 * (w[:, :, :, i].squeeze() - w_min) / (w_max - w_min)\n",
    "  plt.imshow(wimg.astype('uint8'))\n",
    "  plt.axis('off')\n",
    "  plt.title(classes[i])"
   ]
  }
 ],
 "metadata": {
  "kernelspec": {
   "display_name": "Python 2",
   "language": "python",
   "name": "python2"
  },
  "language_info": {
   "codemirror_mode": {
    "name": "ipython",
    "version": 2
   },
   "file_extension": ".py",
   "mimetype": "text/x-python",
   "name": "python",
   "nbconvert_exporter": "python",
   "pygments_lexer": "ipython2",
   "version": "2.7.13"
  }
 },
 "nbformat": 4,
 "nbformat_minor": 1
}
